{
  "nbformat": 4,
  "nbformat_minor": 0,
  "metadata": {
    "colab": {
      "name": "41518010042_MuhammadRamzyAR_LogisticRegression.ipynb",
      "provenance": [],
      "collapsed_sections": []
    },
    "kernelspec": {
      "name": "python3",
      "display_name": "Python 3"
    }
  },
  "cells": [
    {
      "cell_type": "code",
      "metadata": {
        "id": "n59u-Xl4Mspm",
        "colab": {
          "base_uri": "https://localhost:8080/"
        },
        "outputId": "6b79ea51-c308-4e71-a9e4-c80b92fbb8fb"
      },
      "source": [
        "!pip install ipython-autotime\n",
        "\n",
        "%load_ext autotime"
      ],
      "execution_count": null,
      "outputs": [
        {
          "output_type": "stream",
          "text": [
            "Collecting ipython-autotime\n",
            "  Downloading https://files.pythonhosted.org/packages/3f/58/a4a65efcce5c81a67b6893ade862736de355a3a718af5533d30c991831ce/ipython_autotime-0.2.0-py2.py3-none-any.whl\n",
            "Requirement already satisfied: ipython in /usr/local/lib/python3.6/dist-packages (from ipython-autotime) (5.5.0)\n",
            "Requirement already satisfied: simplegeneric>0.8 in /usr/local/lib/python3.6/dist-packages (from ipython->ipython-autotime) (0.8.1)\n",
            "Requirement already satisfied: traitlets>=4.2 in /usr/local/lib/python3.6/dist-packages (from ipython->ipython-autotime) (4.3.3)\n",
            "Requirement already satisfied: pexpect; sys_platform != \"win32\" in /usr/local/lib/python3.6/dist-packages (from ipython->ipython-autotime) (4.8.0)\n",
            "Requirement already satisfied: setuptools>=18.5 in /usr/local/lib/python3.6/dist-packages (from ipython->ipython-autotime) (50.3.2)\n",
            "Requirement already satisfied: prompt-toolkit<2.0.0,>=1.0.4 in /usr/local/lib/python3.6/dist-packages (from ipython->ipython-autotime) (1.0.18)\n",
            "Requirement already satisfied: pickleshare in /usr/local/lib/python3.6/dist-packages (from ipython->ipython-autotime) (0.7.5)\n",
            "Requirement already satisfied: pygments in /usr/local/lib/python3.6/dist-packages (from ipython->ipython-autotime) (2.6.1)\n",
            "Requirement already satisfied: decorator in /usr/local/lib/python3.6/dist-packages (from ipython->ipython-autotime) (4.4.2)\n",
            "Requirement already satisfied: six in /usr/local/lib/python3.6/dist-packages (from traitlets>=4.2->ipython->ipython-autotime) (1.15.0)\n",
            "Requirement already satisfied: ipython-genutils in /usr/local/lib/python3.6/dist-packages (from traitlets>=4.2->ipython->ipython-autotime) (0.2.0)\n",
            "Requirement already satisfied: ptyprocess>=0.5 in /usr/local/lib/python3.6/dist-packages (from pexpect; sys_platform != \"win32\"->ipython->ipython-autotime) (0.6.0)\n",
            "Requirement already satisfied: wcwidth in /usr/local/lib/python3.6/dist-packages (from prompt-toolkit<2.0.0,>=1.0.4->ipython->ipython-autotime) (0.2.5)\n",
            "Installing collected packages: ipython-autotime\n",
            "Successfully installed ipython-autotime-0.2.0\n",
            "time: 426 µs\n"
          ],
          "name": "stdout"
        }
      ]
    },
    {
      "cell_type": "code",
      "metadata": {
        "id": "lOw6_njFaGmm",
        "colab": {
          "base_uri": "https://localhost:8080/"
        },
        "outputId": "10e78fba-b8b9-47f8-fa93-5cdd891e264c"
      },
      "source": [
        "# import library\n",
        "from sklearn.linear_model import LogisticRegression\n",
        "from sklearn.metrics import classification_report\n",
        "from sklearn.metrics import accuracy_score\n",
        "from sklearn.model_selection import train_test_split\n",
        "import matplotlib.pyplot as plt\n",
        "import pandas as pd\n",
        "import seaborn as sns\n",
        "# melakukan import dataset 'Iris' dari library scikit-learn dataset\n",
        "from sklearn import datasets\n",
        "# Memanggil dataset\n",
        "iris = datasets.load_iris()"
      ],
      "execution_count": null,
      "outputs": [
        {
          "output_type": "stream",
          "text": [
            "time: 9.68 ms\n"
          ],
          "name": "stdout"
        }
      ]
    },
    {
      "cell_type": "code",
      "metadata": {
        "id": "0neXBhbSaLFN",
        "colab": {
          "base_uri": "https://localhost:8080/"
        },
        "outputId": "f6495e4a-b76b-4edc-984d-c7e4cf92d092"
      },
      "source": [
        "#Cetak 13 nama fitur\n",
        "print(\"Features: \", iris.feature_names)\n",
        "\n",
        "#Cetak label jenis \n",
        "print(\"Labels: \", iris.target_names)"
      ],
      "execution_count": null,
      "outputs": [
        {
          "output_type": "stream",
          "text": [
            "Features:  ['sepal length (cm)', 'sepal width (cm)', 'petal length (cm)', 'petal width (cm)']\n",
            "Labels:  ['setosa' 'versicolor' 'virginica']\n",
            "time: 3.78 ms\n"
          ],
          "name": "stdout"
        }
      ]
    },
    {
      "cell_type": "code",
      "metadata": {
        "id": "AtqdbSXvaV5R",
        "colab": {
          "base_uri": "https://localhost:8080/"
        },
        "outputId": "913c3cb5-c16e-410f-8310-4355a26c8e4f"
      },
      "source": [
        "# Menampilkan dimensi data (baris, kolom)\n",
        "iris.data.shape"
      ],
      "execution_count": null,
      "outputs": [
        {
          "output_type": "execute_result",
          "data": {
            "text/plain": [
              "(150, 4)"
            ]
          },
          "metadata": {
            "tags": []
          },
          "execution_count": 45
        },
        {
          "output_type": "stream",
          "text": [
            "time: 3.89 ms\n"
          ],
          "name": "stdout"
        }
      ]
    },
    {
      "cell_type": "code",
      "metadata": {
        "id": "C42sVwFpadcT",
        "colab": {
          "base_uri": "https://localhost:8080/"
        },
        "outputId": "3d77d157-bad5-405f-ebba-d4b68aa2c582"
      },
      "source": [
        "# menampilkan 10 data pertama dari variabel 'features'\n",
        "print(iris.data[0:10])"
      ],
      "execution_count": null,
      "outputs": [
        {
          "output_type": "stream",
          "text": [
            "[[5.1 3.5 1.4 0.2]\n",
            " [4.9 3.  1.4 0.2]\n",
            " [4.7 3.2 1.3 0.2]\n",
            " [4.6 3.1 1.5 0.2]\n",
            " [5.  3.6 1.4 0.2]\n",
            " [5.4 3.9 1.7 0.4]\n",
            " [4.6 3.4 1.4 0.3]\n",
            " [5.  3.4 1.5 0.2]\n",
            " [4.4 2.9 1.4 0.2]\n",
            " [4.9 3.1 1.5 0.1]]\n",
            "time: 4.35 ms\n"
          ],
          "name": "stdout"
        }
      ]
    },
    {
      "cell_type": "code",
      "metadata": {
        "id": "aJajJjh5am05",
        "colab": {
          "base_uri": "https://localhost:8080/"
        },
        "outputId": "b5690e99-f7d9-42f9-942e-45e484e01f64"
      },
      "source": [
        "# print(load_iris.dtypes)\n",
        "iris = sns.load_dataset(\"iris\")"
      ],
      "execution_count": null,
      "outputs": [
        {
          "output_type": "stream",
          "text": [
            "time: 19.1 ms\n"
          ],
          "name": "stdout"
        }
      ]
    },
    {
      "cell_type": "code",
      "metadata": {
        "id": "7xHh_gCubknh",
        "colab": {
          "base_uri": "https://localhost:8080/"
        },
        "outputId": "b4617cfb-721b-4a14-9486-cc7b9bfbf455"
      },
      "source": [
        "# iris = datasets.load_iris()\n",
        "iris = iris.rename(columns={\n",
        "                                'sepal length (cm)': 'sepal_length',\n",
        "                                'sepal width (cm)': 'sepal_width',\n",
        "                                'petal length (cm)': 'petal_length',\n",
        "                                'petal width (cm)': 'petal_width'\n",
        "                                }\n",
        "                       )"
      ],
      "execution_count": null,
      "outputs": [
        {
          "output_type": "stream",
          "text": [
            "time: 5.71 ms\n"
          ],
          "name": "stdout"
        }
      ]
    },
    {
      "cell_type": "code",
      "metadata": {
        "id": "LP7HMqQyapbu",
        "colab": {
          "base_uri": "https://localhost:8080/"
        },
        "outputId": "42958e43-10b0-46ac-edf4-ca61299a106e"
      },
      "source": [
        "#Memilih fitur yang akan digunakan sebagai variabel independen (X) dan dependen (Y).\n",
        "X = iris.iloc[:, :-1]\n",
        "Y= iris.iloc[:, -1]\n",
        "#Variabel X akan memilih semua fitur kecuali kolom terakhir dan variabel Y memilih kolom terakhir"
      ],
      "execution_count": null,
      "outputs": [
        {
          "output_type": "stream",
          "text": [
            "time: 4.64 ms\n"
          ],
          "name": "stdout"
        }
      ]
    },
    {
      "cell_type": "code",
      "metadata": {
        "id": "0Q2gLs5rauQ-",
        "colab": {
          "base_uri": "https://localhost:8080/",
          "height": 316
        },
        "outputId": "f792241c-6494-4ec3-dcd2-a54bc7bc4f78"
      },
      "source": [
        "plt.xlabel(\"Features\")\n",
        "plt.ylabel(\"Species\")\n",
        "\n",
        "pltX = iris.loc[:, \"sepal_length\"]\n",
        "pltY = iris.loc[:, \"species\"]\n",
        "plt.scatter(pltX, pltY, color=\"red\", label=\"sepal_length\")\n",
        "\n",
        "pltX = iris.loc[:, \"sepal_width\"]\n",
        "pltY = iris.loc[:, \"species\"]\n",
        "plt.scatter(pltX, pltY, color=\"blue\", label=\"sepal_width\")\n",
        "\n",
        "pltX = iris.loc[:, \"petal_length\"]\n",
        "pltY = iris.loc[:, \"species\"]\n",
        "plt.scatter(pltX, pltY, color=\"green\", label=\"petal_length\")\n",
        "\n",
        "pltX = iris.loc[:, \"petal_width\"]\n",
        "pltY = iris.loc[:, \"species\"]\n",
        "plt.scatter(pltX, pltY, color=\"green\", label=\"petal_width\")\n",
        "\n",
        "plt.legend(loc=4)"
      ],
      "execution_count": null,
      "outputs": [
        {
          "output_type": "execute_result",
          "data": {
            "text/plain": [
              "<matplotlib.legend.Legend at 0x7fa76d9a8828>"
            ]
          },
          "metadata": {
            "tags": []
          },
          "execution_count": 50
        },
        {
          "output_type": "display_data",
          "data": {
            "image/png": "[encoded data removed]",
            "text/plain": [
              "<Figure size 432x288 with 1 Axes>"
            ]
          },
          "metadata": {
            "tags": [],
            "needs_background": "light"
          }
        },
        {
          "output_type": "stream",
          "text": [
            "time: 245 ms\n"
          ],
          "name": "stdout"
        }
      ]
    },
    {
      "cell_type": "code",
      "metadata": {
        "id": "iQ4uAovjfovQ",
        "colab": {
          "base_uri": "https://localhost:8080/"
        },
        "outputId": "afe7c70c-0fc6-4ff5-f968-5a3edc283991"
      },
      "source": [
        "# membagi data menjadi data training dan data testing \n",
        "X_train,x_test,y_train,y_test = train_test_split (X,Y,test_size=0.2,random_state=20)"
      ],
      "execution_count": null,
      "outputs": [
        {
          "output_type": "stream",
          "text": [
            "time: 5.55 ms\n"
          ],
          "name": "stdout"
        }
      ]
    },
    {
      "cell_type": "code",
      "metadata": {
        "id": "AHs_DqKQiuDc",
        "colab": {
          "base_uri": "https://localhost:8080/"
        },
        "outputId": "8d7d33df-adff-4e97-9dd6-d337d672afc2"
      },
      "source": [
        "model = LogisticRegression()\n",
        "model.fit(X_train, y_train)"
      ],
      "execution_count": null,
      "outputs": [
        {
          "output_type": "stream",
          "text": [
            "/usr/local/lib/python3.6/dist-packages/sklearn/linear_model/_logistic.py:940: ConvergenceWarning: lbfgs failed to converge (status=1):\n",
            "STOP: TOTAL NO. of ITERATIONS REACHED LIMIT.\n",
            "\n",
            "Increase the number of iterations (max_iter) or scale the data as shown in:\n",
            "    https://scikit-learn.org/stable/modules/preprocessing.html\n",
            "Please also refer to the documentation for alternative solver options:\n",
            "    https://scikit-learn.org/stable/modules/linear_model.html#logistic-regression\n",
            "  extra_warning_msg=_LOGISTIC_SOLVER_CONVERGENCE_MSG)\n"
          ],
          "name": "stderr"
        },
        {
          "output_type": "execute_result",
          "data": {
            "text/plain": [
              "LogisticRegression(C=1.0, class_weight=None, dual=False, fit_intercept=True,\n",
              "                   intercept_scaling=1, l1_ratio=None, max_iter=100,\n",
              "                   multi_class='auto', n_jobs=None, penalty='l2',\n",
              "                   random_state=None, solver='lbfgs', tol=0.0001, verbose=0,\n",
              "                   warm_start=False)"
            ]
          },
          "metadata": {
            "tags": []
          },
          "execution_count": 52
        },
        {
          "output_type": "stream",
          "text": [
            "time: 38.8 ms\n"
          ],
          "name": "stdout"
        }
      ]
    },
    {
      "cell_type": "code",
      "metadata": {
        "id": "bWgn3btLiyMU",
        "colab": {
          "base_uri": "https://localhost:8080/"
        },
        "outputId": "3783d44f-cce6-4395-c370-68833e77f3ae"
      },
      "source": [
        "# pengujian model\n",
        "predictions = model.predict(x_test)\n",
        "print(predictions)"
      ],
      "execution_count": null,
      "outputs": [
        {
          "output_type": "stream",
          "text": [
            "['setosa' 'versicolor' 'versicolor' 'virginica' 'versicolor' 'versicolor'\n",
            " 'virginica' 'setosa' 'virginica' 'setosa' 'virginica' 'versicolor'\n",
            " 'versicolor' 'setosa' 'setosa' 'virginica' 'setosa' 'versicolor'\n",
            " 'virginica' 'versicolor' 'versicolor' 'virginica' 'virginica' 'setosa'\n",
            " 'versicolor' 'versicolor' 'versicolor' 'setosa' 'virginica' 'versicolor']\n",
            "time: 4.18 ms\n"
          ],
          "name": "stdout"
        }
      ]
    },
    {
      "cell_type": "code",
      "metadata": {
        "id": "Tk44191Yi-pJ",
        "colab": {
          "base_uri": "https://localhost:8080/"
        },
        "outputId": "14cfe86c-62fa-4a0e-a4b9-dfb063470354"
      },
      "source": [
        "# print tingkat akurasi\n",
        "print(classification_report(y_test,predictions))\n",
        "print(accuracy_score(y_test,predictions))"
      ],
      "execution_count": null,
      "outputs": [
        {
          "output_type": "stream",
          "text": [
            "              precision    recall  f1-score   support\n",
            "\n",
            "      setosa       1.00      1.00      1.00         8\n",
            "  versicolor       0.85      1.00      0.92        11\n",
            "   virginica       1.00      0.82      0.90        11\n",
            "\n",
            "    accuracy                           0.93        30\n",
            "   macro avg       0.95      0.94      0.94        30\n",
            "weighted avg       0.94      0.93      0.93        30\n",
            "\n",
            "0.9333333333333333\n",
            "time: 10.6 ms\n"
          ],
          "name": "stdout"
        }
      ]
    }
  ]
}