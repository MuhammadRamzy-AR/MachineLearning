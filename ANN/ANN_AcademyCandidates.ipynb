{
  "nbformat": 4,
  "nbformat_minor": 0,
  "metadata": {
    "colab": {
      "name": "Tugas2K_ANN_AcademyCandidates.ipynb",
      "provenance": [],
      "collapsed_sections": []
    },
    "kernelspec": {
      "name": "python3",
      "display_name": "Python 3"
    }
  },
  "cells": [
    {
      "cell_type": "code",
      "metadata": {
        "id": "0tcCY-ZsDM7e"
      },
      "source": [
        "# neural network with keras\n",
        "import numpy as np\n",
        "from numpy import loadtxt\n",
        "from keras.models import Sequential\n",
        "from keras.layers import Dense\n"
      ],
      "execution_count": 13,
      "outputs": []
    },
    {
      "cell_type": "code",
      "metadata": {
        "id": "uJBoT1OIDcl5",
        "colab": {
          "base_uri": "https://localhost:8080/"
        },
        "outputId": "f8749846-26db-46d9-a568-69cd3fa04e01"
      },
      "source": [
        "# load the dataset\n",
        "from google.colab import drive\n",
        "drive.mount('/content/drive')\n",
        "\n",
        "dataset = loadtxt('drive/My Drive/Tugas Kuliah/Semester-5/MachineLearning/Tugas2k/Dataset/academy-candidates_uc.csv',delimiter=',')"
      ],
      "execution_count": 14,
      "outputs": [
        {
          "output_type": "stream",
          "text": [
            "Drive already mounted at /content/drive; to attempt to forcibly remount, call drive.mount(\"/content/drive\", force_remount=True).\n"
          ],
          "name": "stdout"
        }
      ]
    },
    {
      "cell_type": "code",
      "metadata": {
        "id": "hsscd44-UUNz",
        "colab": {
          "base_uri": "https://localhost:8080/"
        },
        "outputId": "6752b9b8-5b94-457a-b566-789ce8cf3d0d"
      },
      "source": [
        "# to read data from gdrive\n",
        "print (dataset)"
      ],
      "execution_count": 15,
      "outputs": [
        {
          "output_type": "stream",
          "text": [
            "[[780.    4.    3.    1. ]\n",
            " [750.    3.9   4.    1. ]\n",
            " [690.    3.3   3.    0. ]\n",
            " [710.    3.7   5.    1. ]\n",
            " [680.    3.9   4.    0. ]\n",
            " [730.    3.7   6.    1. ]\n",
            " [690.    2.3   1.    0. ]\n",
            " [720.    3.3   4.    1. ]\n",
            " [740.    3.3   5.    1. ]\n",
            " [690.    1.7   1.    0. ]\n",
            " [610.    2.7   3.    0. ]\n",
            " [690.    3.7   5.    1. ]\n",
            " [710.    3.7   6.    1. ]\n",
            " [680.    3.3   4.    0. ]\n",
            " [770.    3.3   3.    1. ]\n",
            " [610.    3.    1.    0. ]\n",
            " [580.    2.7   4.    0. ]\n",
            " [650.    3.7   6.    1. ]\n",
            " [540.    2.7   2.    0. ]\n",
            " [590.    2.3   3.    0. ]\n",
            " [620.    3.3   2.    1. ]\n",
            " [600.    2.    1.    0. ]\n",
            " [550.    2.3   4.    0. ]\n",
            " [550.    2.7   1.    0. ]\n",
            " [570.    3.    2.    0. ]\n",
            " [670.    3.3   6.    1. ]\n",
            " [660.    3.7   4.    1. ]\n",
            " [580.    2.3   2.    0. ]\n",
            " [650.    3.7   6.    1. ]\n",
            " [660.    3.3   5.    1. ]\n",
            " [640.    3.    1.    0. ]\n",
            " [620.    2.7   2.    0. ]\n",
            " [660.    4.    4.    1. ]\n",
            " [660.    3.3   6.    1. ]\n",
            " [680.    3.3   5.    1. ]\n",
            " [650.    2.3   1.    0. ]\n",
            " [670.    2.7   2.    0. ]\n",
            " [580.    3.3   1.    0. ]\n",
            " [590.    1.7   4.    0. ]\n",
            " [690.    3.7   5.    1. ]]\n"
          ],
          "name": "stdout"
        }
      ]
    },
    {
      "cell_type": "code",
      "metadata": {
        "id": "pxzR_q1sEXiO"
      },
      "source": [
        "# split into input (X) and output (y) variables\n",
        "X = dataset[:,0:3]\n",
        "y = dataset[:,3]"
      ],
      "execution_count": 16,
      "outputs": []
    },
    {
      "cell_type": "code",
      "metadata": {
        "id": "jTDMvOEcEZyG"
      },
      "source": [
        "#Define Keras Model\n",
        "model = Sequential()\n",
        "model.add(Dense(12, input_dim=3, activation='relu'))\n",
        "model.add(Dense(8, activation='relu'))\n",
        "model.add(Dense(1, activation='sigmoid'))"
      ],
      "execution_count": 17,
      "outputs": []
    },
    {
      "cell_type": "code",
      "metadata": {
        "id": "4r74k4y1FF8I"
      },
      "source": [
        "# compile the keras model\n",
        "model.compile(loss='binary_crossentropy', optimizer='adam', metrics=['accuracy'])"
      ],
      "execution_count": 18,
      "outputs": []
    },
    {
      "cell_type": "code",
      "metadata": {
        "id": "Y-_zX_D_FTfw",
        "colab": {
          "base_uri": "https://localhost:8080/"
        },
        "outputId": "25171a9a-807c-4a83-b884-889af5e98f4b"
      },
      "source": [
        "# fit the keras model on the dataset\n",
        "model.fit(X, y, epochs=150, batch_size=10,verbose=0)"
      ],
      "execution_count": 19,
      "outputs": [
        {
          "output_type": "execute_result",
          "data": {
            "text/plain": [
              "<tensorflow.python.keras.callbacks.History at 0x7fcf2f573c18>"
            ]
          },
          "metadata": {
            "tags": []
          },
          "execution_count": 19
        }
      ]
    },
    {
      "cell_type": "code",
      "metadata": {
        "id": "w2BUEl_AIqF-",
        "colab": {
          "base_uri": "https://localhost:8080/"
        },
        "outputId": "c4357c40-d575-4187-f3d7-50190b30b9f9"
      },
      "source": [
        "# evaluate the keras model\n",
        "_, accuracy = model.evaluate(X, y, verbose=0)\n",
        "print('Accuracy: %.2f' % (accuracy*100))"
      ],
      "execution_count": 25,
      "outputs": [
        {
          "output_type": "stream",
          "text": [
            "Accuracy: 77.50\n"
          ],
          "name": "stdout"
        }
      ]
    },
    {
      "cell_type": "code",
      "metadata": {
        "id": "DeWECGbzGWDq"
      },
      "source": [
        "# make class predictions with the model\n",
        "predictions = model.predict_classes(X)"
      ],
      "execution_count": 21,
      "outputs": []
    },
    {
      "cell_type": "code",
      "metadata": {
        "id": "-f5FbbPPHc3X",
        "colab": {
          "base_uri": "https://localhost:8080/"
        },
        "outputId": "01d8e5ab-9934-4c8b-92e6-086aece20aed"
      },
      "source": [
        "# summarize the classes\n",
        "for i in range(40):\n",
        "\tprint('%s => %d (expected %d)' % (X[i].tolist(), predictions[i], y[i]))"
      ],
      "execution_count": 22,
      "outputs": [
        {
          "output_type": "stream",
          "text": [
            "[780.0, 4.0, 3.0] => 0 (expected 1)\n",
            "[750.0, 3.9, 4.0] => 1 (expected 1)\n",
            "[690.0, 3.3, 3.0] => 0 (expected 0)\n",
            "[710.0, 3.7, 5.0] => 1 (expected 1)\n",
            "[680.0, 3.9, 4.0] => 1 (expected 0)\n",
            "[730.0, 3.7, 6.0] => 1 (expected 1)\n",
            "[690.0, 2.3, 1.0] => 0 (expected 0)\n",
            "[720.0, 3.3, 4.0] => 1 (expected 1)\n",
            "[740.0, 3.3, 5.0] => 1 (expected 1)\n",
            "[690.0, 1.7, 1.0] => 0 (expected 0)\n",
            "[610.0, 2.7, 3.0] => 0 (expected 0)\n",
            "[690.0, 3.7, 5.0] => 1 (expected 1)\n",
            "[710.0, 3.7, 6.0] => 1 (expected 1)\n",
            "[680.0, 3.3, 4.0] => 1 (expected 0)\n",
            "[770.0, 3.3, 3.0] => 0 (expected 1)\n",
            "[610.0, 3.0, 1.0] => 0 (expected 0)\n",
            "[580.0, 2.7, 4.0] => 1 (expected 0)\n",
            "[650.0, 3.7, 6.0] => 1 (expected 1)\n",
            "[540.0, 2.7, 2.0] => 0 (expected 0)\n",
            "[590.0, 2.3, 3.0] => 1 (expected 0)\n",
            "[620.0, 3.3, 2.0] => 0 (expected 1)\n",
            "[600.0, 2.0, 1.0] => 0 (expected 0)\n",
            "[550.0, 2.3, 4.0] => 1 (expected 0)\n",
            "[550.0, 2.7, 1.0] => 0 (expected 0)\n",
            "[570.0, 3.0, 2.0] => 0 (expected 0)\n",
            "[670.0, 3.3, 6.0] => 1 (expected 1)\n",
            "[660.0, 3.7, 4.0] => 1 (expected 1)\n",
            "[580.0, 2.3, 2.0] => 0 (expected 0)\n",
            "[650.0, 3.7, 6.0] => 1 (expected 1)\n",
            "[660.0, 3.3, 5.0] => 1 (expected 1)\n",
            "[640.0, 3.0, 1.0] => 0 (expected 0)\n",
            "[620.0, 2.7, 2.0] => 0 (expected 0)\n",
            "[660.0, 4.0, 4.0] => 1 (expected 1)\n",
            "[660.0, 3.3, 6.0] => 1 (expected 1)\n",
            "[680.0, 3.3, 5.0] => 1 (expected 1)\n",
            "[650.0, 2.3, 1.0] => 0 (expected 0)\n",
            "[670.0, 2.7, 2.0] => 0 (expected 0)\n",
            "[580.0, 3.3, 1.0] => 0 (expected 0)\n",
            "[590.0, 1.7, 4.0] => 1 (expected 0)\n",
            "[690.0, 3.7, 5.0] => 1 (expected 1)\n"
          ],
          "name": "stdout"
        }
      ]
    },
    {
      "cell_type": "code",
      "metadata": {
        "colab": {
          "base_uri": "https://localhost:8080/"
        },
        "id": "LlqItpK2vkRT",
        "outputId": "667132bd-febd-492e-ef11-d76fb12db9d6"
      },
      "source": [
        "# print tingkat akurasi\n",
        "from sklearn.metrics import classification_report\n",
        "from sklearn.metrics import accuracy_score\n",
        "print(classification_report(y,predictions))\n",
        "print(accuracy_score(y,predictions))"
      ],
      "execution_count": 23,
      "outputs": [
        {
          "output_type": "stream",
          "text": [
            "              precision    recall  f1-score   support\n",
            "\n",
            "         0.0       0.83      0.71      0.77        21\n",
            "         1.0       0.73      0.84      0.78        19\n",
            "\n",
            "    accuracy                           0.78        40\n",
            "   macro avg       0.78      0.78      0.77        40\n",
            "weighted avg       0.78      0.78      0.77        40\n",
            "\n",
            "0.775\n"
          ],
          "name": "stdout"
        }
      ]
    }
  ]
}