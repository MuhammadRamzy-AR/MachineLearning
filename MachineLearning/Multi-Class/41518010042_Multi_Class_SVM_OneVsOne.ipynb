{
  "nbformat": 4,
  "nbformat_minor": 0,
  "metadata": {
    "colab": {
      "name": "Multi-Class_SVM_OneVsOne.ipynb",
      "provenance": [],
      "collapsed_sections": []
    },
    "kernelspec": {
      "name": "python3",
      "display_name": "Python 3"
    }
  },
  "cells": [
    {
      "cell_type": "code",
      "metadata": {
        "id": "GAZFhuleH9x8",
        "colab": {
          "base_uri": "https://localhost:8080/"
        },
        "outputId": "1fe7f161-ddaf-4c60-f0b4-0103f7fa729a"
      },
      "source": [
        "!pip install ipython-autotime\n",
        "\n",
        "%load_ext autotime"
      ],
      "execution_count": null,
      "outputs": [
        {
          "output_type": "stream",
          "text": [
            "Requirement already satisfied: ipython-autotime in /usr/local/lib/python3.6/dist-packages (0.2.0)\n",
            "Requirement already satisfied: ipython in /usr/local/lib/python3.6/dist-packages (from ipython-autotime) (5.5.0)\n",
            "Requirement already satisfied: traitlets>=4.2 in /usr/local/lib/python3.6/dist-packages (from ipython->ipython-autotime) (4.3.3)\n",
            "Requirement already satisfied: prompt-toolkit<2.0.0,>=1.0.4 in /usr/local/lib/python3.6/dist-packages (from ipython->ipython-autotime) (1.0.18)\n",
            "Requirement already satisfied: simplegeneric>0.8 in /usr/local/lib/python3.6/dist-packages (from ipython->ipython-autotime) (0.8.1)\n",
            "Requirement already satisfied: decorator in /usr/local/lib/python3.6/dist-packages (from ipython->ipython-autotime) (4.4.2)\n",
            "Requirement already satisfied: pygments in /usr/local/lib/python3.6/dist-packages (from ipython->ipython-autotime) (2.6.1)\n",
            "Requirement already satisfied: pexpect; sys_platform != \"win32\" in /usr/local/lib/python3.6/dist-packages (from ipython->ipython-autotime) (4.8.0)\n",
            "Requirement already satisfied: pickleshare in /usr/local/lib/python3.6/dist-packages (from ipython->ipython-autotime) (0.7.5)\n",
            "Requirement already satisfied: setuptools>=18.5 in /usr/local/lib/python3.6/dist-packages (from ipython->ipython-autotime) (50.3.2)\n",
            "Requirement already satisfied: ipython-genutils in /usr/local/lib/python3.6/dist-packages (from traitlets>=4.2->ipython->ipython-autotime) (0.2.0)\n",
            "Requirement already satisfied: six in /usr/local/lib/python3.6/dist-packages (from traitlets>=4.2->ipython->ipython-autotime) (1.15.0)\n",
            "Requirement already satisfied: wcwidth in /usr/local/lib/python3.6/dist-packages (from prompt-toolkit<2.0.0,>=1.0.4->ipython->ipython-autotime) (0.2.5)\n",
            "Requirement already satisfied: ptyprocess>=0.5 in /usr/local/lib/python3.6/dist-packages (from pexpect; sys_platform != \"win32\"->ipython->ipython-autotime) (0.6.0)\n",
            "The autotime extension is already loaded. To reload it, use:\n",
            "  %reload_ext autotime\n",
            "time: 2.63 s\n"
          ],
          "name": "stdout"
        }
      ]
    },
    {
      "cell_type": "code",
      "metadata": {
        "id": "MI15TnN62S-l",
        "colab": {
          "base_uri": "https://localhost:8080/"
        },
        "outputId": "c57d66a3-9666-4aa1-b605-f180dddf55e9"
      },
      "source": [
        "# multi-class classification (one-vs-one) (menggunakan SVM)\n",
        "# melakukan import library yang diperlukan\n",
        "from sklearn.svm import SVC\n",
        "from sklearn.utils import shuffle\n",
        "from sklearn.metrics import confusion_matrix\n",
        "from sklearn.multiclass import OneVsOneClassifier\n",
        "import numpy as np\n",
        "import pylab as pl\n",
        "import pandas as pd\n",
        "import matplotlib.pyplot as plt \n",
        "import seaborn as sns\n",
        "# melakukan import dataset 'Iris' dari library scikit-learn dataset\n",
        "from sklearn import datasets\n",
        "# Memanggil dataset\n",
        "iris = datasets.load_iris()"
      ],
      "execution_count": null,
      "outputs": [
        {
          "output_type": "stream",
          "text": [
            "time: 6.7 ms\n"
          ],
          "name": "stdout"
        }
      ]
    },
    {
      "cell_type": "code",
      "metadata": {
        "id": "UhPz-GTW2X32",
        "colab": {
          "base_uri": "https://localhost:8080/"
        },
        "outputId": "f0c896dd-08d5-45ed-a8be-8ace3c452799"
      },
      "source": [
        "#Cetak 13 nama fitur\n",
        "print(\"Features: \", iris.feature_names)\n",
        "\n",
        "#Cetak label jenis \n",
        "print(\"Labels: \", iris.target_names)"
      ],
      "execution_count": null,
      "outputs": [
        {
          "output_type": "stream",
          "text": [
            "Features:  ['sepal length (cm)', 'sepal width (cm)', 'petal length (cm)', 'petal width (cm)']\n",
            "Labels:  ['setosa' 'versicolor' 'virginica']\n",
            "time: 3.42 ms\n"
          ],
          "name": "stdout"
        }
      ]
    },
    {
      "cell_type": "code",
      "metadata": {
        "id": "xc9bdS7m2Z92",
        "colab": {
          "base_uri": "https://localhost:8080/"
        },
        "outputId": "d347f585-8d35-4431-d09c-c7ae7438b308"
      },
      "source": [
        "# Menampilkan dimensi data (baris, kolom)\n",
        "iris.data.shape"
      ],
      "execution_count": null,
      "outputs": [
        {
          "output_type": "execute_result",
          "data": {
            "text/plain": [
              "(150, 4)"
            ]
          },
          "metadata": {
            "tags": []
          },
          "execution_count": 137
        },
        {
          "output_type": "stream",
          "text": [
            "time: 5.04 ms\n"
          ],
          "name": "stdout"
        }
      ]
    },
    {
      "cell_type": "code",
      "metadata": {
        "id": "R2H4HbHL2btS",
        "colab": {
          "base_uri": "https://localhost:8080/"
        },
        "outputId": "6957c929-85cd-41de-aaa9-361990c3b86d"
      },
      "source": [
        "# menampilkan 10 data pertama dari variabel 'features'\n",
        "print(iris.data[0:10])"
      ],
      "execution_count": null,
      "outputs": [
        {
          "output_type": "stream",
          "text": [
            "[[5.1 3.5 1.4 0.2]\n",
            " [4.9 3.  1.4 0.2]\n",
            " [4.7 3.2 1.3 0.2]\n",
            " [4.6 3.1 1.5 0.2]\n",
            " [5.  3.6 1.4 0.2]\n",
            " [5.4 3.9 1.7 0.4]\n",
            " [4.6 3.4 1.4 0.3]\n",
            " [5.  3.4 1.5 0.2]\n",
            " [4.4 2.9 1.4 0.2]\n",
            " [4.9 3.1 1.5 0.1]]\n",
            "time: 4.11 ms\n"
          ],
          "name": "stdout"
        }
      ]
    },
    {
      "cell_type": "code",
      "metadata": {
        "id": "_FXSeYnK2dY9",
        "colab": {
          "base_uri": "https://localhost:8080/"
        },
        "outputId": "465c7cf7-5b93-43a3-cecc-e736de79cd69"
      },
      "source": [
        "# Cetak label data\n",
        "print(iris.target)"
      ],
      "execution_count": null,
      "outputs": [
        {
          "output_type": "stream",
          "text": [
            "[0 0 0 0 0 0 0 0 0 0 0 0 0 0 0 0 0 0 0 0 0 0 0 0 0 0 0 0 0 0 0 0 0 0 0 0 0\n",
            " 0 0 0 0 0 0 0 0 0 0 0 0 0 1 1 1 1 1 1 1 1 1 1 1 1 1 1 1 1 1 1 1 1 1 1 1 1\n",
            " 1 1 1 1 1 1 1 1 1 1 1 1 1 1 1 1 1 1 1 1 1 1 1 1 1 1 2 2 2 2 2 2 2 2 2 2 2\n",
            " 2 2 2 2 2 2 2 2 2 2 2 2 2 2 2 2 2 2 2 2 2 2 2 2 2 2 2 2 2 2 2 2 2 2 2 2 2\n",
            " 2 2]\n",
            "time: 2.54 ms\n"
          ],
          "name": "stdout"
        }
      ]
    },
    {
      "cell_type": "code",
      "metadata": {
        "id": "IuFnV2Hu2fId",
        "colab": {
          "base_uri": "https://localhost:8080/"
        },
        "outputId": "8b73f91f-2afb-4875-8cbf-226b9747c4b2"
      },
      "source": [
        "# Import fungsi train_test_split\n",
        "from sklearn.model_selection import train_test_split\n",
        "\n",
        "# Membagi dataset menjadi training set dan test set\n",
        "X_train, X_test, y_train, y_test = train_test_split(iris.data, iris.target, test_size=0.25,random_state=123) # 75% training and 25% test"
      ],
      "execution_count": null,
      "outputs": [
        {
          "output_type": "stream",
          "text": [
            "time: 6.99 ms\n"
          ],
          "name": "stdout"
        }
      ]
    },
    {
      "cell_type": "code",
      "metadata": {
        "id": "l1SY3taM2hD6",
        "colab": {
          "base_uri": "https://localhost:8080/"
        },
        "outputId": "0a4fa83b-4540-4f5d-d809-b5d535cb8f24"
      },
      "source": [
        "# Membuat svm Classifier (tidak jadi dipakai)\n",
        "# clf = svm.SVC(kernel='linear') # Linear Kernel"
      ],
      "execution_count": null,
      "outputs": [
        {
          "output_type": "stream",
          "text": [
            "time: 721 µs\n"
          ],
          "name": "stdout"
        }
      ]
    },
    {
      "cell_type": "code",
      "metadata": {
        "id": "RpCdwv8v2izc",
        "colab": {
          "base_uri": "https://localhost:8080/"
        },
        "outputId": "7d6d64ea-ddcd-425f-ea63-be64af74510a"
      },
      "source": [
        "# mendefinisikan model OvO menggunakan SVM\n",
        "model = SVC(decision_function_shape='ovo')\n",
        "# mendeklarasikan model OneVsOne\n",
        "ovo = OneVsOneClassifier(model)\n",
        "# fit model\n",
        "ovo.fit(X_train, y_train)\n",
        "# Memprediksikan respons untuk test dataset\n",
        "y_pred = ovo.predict(X_test)"
      ],
      "execution_count": null,
      "outputs": [
        {
          "output_type": "stream",
          "text": [
            "time: 12.5 ms\n"
          ],
          "name": "stdout"
        }
      ]
    },
    {
      "cell_type": "code",
      "metadata": {
        "id": "NohfcKe52lQ5",
        "colab": {
          "base_uri": "https://localhost:8080/"
        },
        "outputId": "12441fdc-72f3-4c28-df81-a730d8a4d603"
      },
      "source": [
        "y_pred"
      ],
      "execution_count": null,
      "outputs": [
        {
          "output_type": "execute_result",
          "data": {
            "text/plain": [
              "array([1, 2, 2, 1, 0, 1, 1, 0, 0, 1, 2, 0, 1, 2, 2, 2, 0, 0, 1, 0, 0, 1,\n",
              "       0, 1, 0, 0, 0, 2, 2, 0, 2, 2, 0, 0, 1, 1, 2, 0])"
            ]
          },
          "metadata": {
            "tags": []
          },
          "execution_count": 143
        },
        {
          "output_type": "stream",
          "text": [
            "time: 5.34 ms\n"
          ],
          "name": "stdout"
        }
      ]
    },
    {
      "cell_type": "code",
      "metadata": {
        "id": "vl4Siv9f-fih",
        "colab": {
          "base_uri": "https://localhost:8080/"
        },
        "outputId": "fbe7a519-a399-4b79-c436-23c9833ff90e"
      },
      "source": [
        "y_test"
      ],
      "execution_count": null,
      "outputs": [
        {
          "output_type": "execute_result",
          "data": {
            "text/plain": [
              "array([1, 2, 2, 1, 0, 2, 1, 0, 0, 1, 2, 0, 1, 2, 2, 2, 0, 0, 1, 0, 0, 2,\n",
              "       0, 2, 0, 0, 0, 2, 2, 0, 2, 2, 0, 0, 1, 1, 2, 0])"
            ]
          },
          "metadata": {
            "tags": []
          },
          "execution_count": 144
        },
        {
          "output_type": "stream",
          "text": [
            "time: 3.52 ms\n"
          ],
          "name": "stdout"
        }
      ]
    },
    {
      "cell_type": "code",
      "metadata": {
        "id": "9UzCZxH52nPK",
        "colab": {
          "base_uri": "https://localhost:8080/"
        },
        "outputId": "29d5c700-b3c0-4ade-a0a5-c02502ce1cee"
      },
      "source": [
        "# Menampilkan confusion matriks untuk mengetahui kesalahan dalam pengklasifikasian data\n",
        "confusion_matrix(y_test, y_pred)"
      ],
      "execution_count": null,
      "outputs": [
        {
          "output_type": "execute_result",
          "data": {
            "text/plain": [
              "array([[16,  0,  0],\n",
              "       [ 0,  8,  0],\n",
              "       [ 0,  3, 11]])"
            ]
          },
          "metadata": {
            "tags": []
          },
          "execution_count": 145
        },
        {
          "output_type": "stream",
          "text": [
            "time: 4.61 ms\n"
          ],
          "name": "stdout"
        }
      ]
    },
    {
      "cell_type": "code",
      "metadata": {
        "id": "yiD6wa2U2o-Q",
        "colab": {
          "base_uri": "https://localhost:8080/"
        },
        "outputId": "0af41025-eb7b-48c7-8ef2-9fbe81071f22"
      },
      "source": [
        "# Menampilkan tingkat akurasi dari pengklasifikasian    menggunakan algoritma SVM untuk metode OneVsOne\n",
        "from sklearn.metrics import classification_report\n",
        "print(classification_report(y_test, y_pred))"
      ],
      "execution_count": null,
      "outputs": [
        {
          "output_type": "stream",
          "text": [
            "              precision    recall  f1-score   support\n",
            "\n",
            "           0       1.00      1.00      1.00        16\n",
            "           1       0.73      1.00      0.84         8\n",
            "           2       1.00      0.79      0.88        14\n",
            "\n",
            "    accuracy                           0.92        38\n",
            "   macro avg       0.91      0.93      0.91        38\n",
            "weighted avg       0.94      0.92      0.92        38\n",
            "\n",
            "time: 11 ms\n"
          ],
          "name": "stdout"
        }
      ]
    }
  ]
}