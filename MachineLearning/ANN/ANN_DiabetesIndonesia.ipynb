{
  "nbformat": 4,
  "nbformat_minor": 0,
  "metadata": {
    "colab": {
      "name": "Tugas2K_ANN_DiabetesIndonesia.ipynb",
      "provenance": [],
      "collapsed_sections": []
    },
    "kernelspec": {
      "name": "python3",
      "display_name": "Python 3"
    }
  },
  "cells": [
    {
      "cell_type": "code",
      "metadata": {
        "id": "Zd7DnL2Ie2Gz"
      },
      "source": [
        "# neural network with keras\n",
        "import numpy as np\n",
        "from numpy import loadtxt\n",
        "from keras.models import Sequential\n",
        "from keras.layers import Dense"
      ],
      "execution_count": 52,
      "outputs": []
    },
    {
      "cell_type": "code",
      "metadata": {
        "colab": {
          "base_uri": "https://localhost:8080/"
        },
        "id": "PXI2i5OfgUcH",
        "outputId": "4e05726d-d12c-48bd-d43f-8bf2e20e60ef"
      },
      "source": [
        "# load the dataset\n",
        "from google.colab import drive\n",
        "drive.mount('/content/drive')\n",
        "\n",
        "dataset = loadtxt('drive/My Drive/Tugas Kuliah/Semester-5/MachineLearning/Tugas2k/Dataset/diabetes_indonesia_uc.csv',delimiter=',')"
      ],
      "execution_count": 53,
      "outputs": [
        {
          "output_type": "stream",
          "text": [
            "Drive already mounted at /content/drive; to attempt to forcibly remount, call drive.mount(\"/content/drive\", force_remount=True).\n"
          ],
          "name": "stdout"
        }
      ]
    },
    {
      "cell_type": "code",
      "metadata": {
        "colab": {
          "base_uri": "https://localhost:8080/"
        },
        "id": "l4m8qBVugXUL",
        "outputId": "68773a52-d44f-47f3-e78a-a7d4f1a47c1d"
      },
      "source": [
        "# to read data from gdrive\n",
        "print (dataset)"
      ],
      "execution_count": 54,
      "outputs": [
        {
          "output_type": "stream",
          "text": [
            "[[  6.    148.     72.    ...   0.627  50.      1.   ]\n",
            " [  1.     85.     66.    ...   0.351  31.      0.   ]\n",
            " [  8.    183.     64.    ...   0.672  32.      1.   ]\n",
            " ...\n",
            " [  5.    121.     72.    ...   0.245  30.      0.   ]\n",
            " [  1.    126.     60.    ...   0.349  47.      1.   ]\n",
            " [  1.     93.     70.    ...   0.315  23.      0.   ]]\n"
          ],
          "name": "stdout"
        }
      ]
    },
    {
      "cell_type": "code",
      "metadata": {
        "id": "EAJBKCSmgfGg"
      },
      "source": [
        "# split into input (X) and output (y) variables\n",
        "X = dataset[:,0:8]\n",
        "y = dataset[:,8]"
      ],
      "execution_count": 55,
      "outputs": []
    },
    {
      "cell_type": "code",
      "metadata": {
        "id": "o_TgMbD9ghS7"
      },
      "source": [
        "#Define Keras Model\n",
        "model = Sequential()\n",
        "model.add(Dense(12, input_dim=8, activation='relu'))\n",
        "model.add(Dense(8, activation='relu'))\n",
        "model.add(Dense(1, activation='sigmoid'))"
      ],
      "execution_count": 59,
      "outputs": []
    },
    {
      "cell_type": "code",
      "metadata": {
        "id": "UNitMHB_gi0a"
      },
      "source": [
        "# compile the keras model\n",
        "model.compile(loss='binary_crossentropy', optimizer='adam', metrics=['accuracy'])"
      ],
      "execution_count": 60,
      "outputs": []
    },
    {
      "cell_type": "code",
      "metadata": {
        "colab": {
          "base_uri": "https://localhost:8080/"
        },
        "id": "P4yru-L7glpt",
        "outputId": "ef80c68f-3ebf-4e7e-d9d1-eae8f2bff12d"
      },
      "source": [
        "# fit the keras model on the dataset\n",
        "model.fit(X, y, epochs=150, batch_size=10,verbose=0)"
      ],
      "execution_count": 61,
      "outputs": [
        {
          "output_type": "execute_result",
          "data": {
            "text/plain": [
              "<tensorflow.python.keras.callbacks.History at 0x7f28c592a160>"
            ]
          },
          "metadata": {
            "tags": []
          },
          "execution_count": 61
        }
      ]
    },
    {
      "cell_type": "code",
      "metadata": {
        "colab": {
          "base_uri": "https://localhost:8080/"
        },
        "id": "enwAgOHxgnQF",
        "outputId": "a8c9bf8b-768e-4cb7-a88b-eb684a1b8176"
      },
      "source": [
        "# evaluate the keras model\n",
        "_, accuracy = model.evaluate(X, y, verbose=0)\n",
        "print('Accuracy: %.2f' % (accuracy*100))"
      ],
      "execution_count": 62,
      "outputs": [
        {
          "output_type": "stream",
          "text": [
            "Accuracy: 75.91\n"
          ],
          "name": "stdout"
        }
      ]
    },
    {
      "cell_type": "code",
      "metadata": {
        "id": "tfyA7PtkgqMt"
      },
      "source": [
        "# make class predictions with the model\n",
        "predictions = model.predict_classes(X)"
      ],
      "execution_count": 63,
      "outputs": []
    },
    {
      "cell_type": "code",
      "metadata": {
        "colab": {
          "base_uri": "https://localhost:8080/"
        },
        "id": "_Rn5BaSBgrxV",
        "outputId": "f92db3c7-2a74-4525-b39d-7bd1ebfa877d"
      },
      "source": [
        "# summarize the classes\n",
        "for i in range(40):\n",
        "\tprint('%s => %d (expected %d)' % (X[i].tolist(), predictions[i], y[i]))"
      ],
      "execution_count": 64,
      "outputs": [
        {
          "output_type": "stream",
          "text": [
            "[6.0, 148.0, 72.0, 35.0, 0.0, 33.6, 0.627, 50.0] => 1 (expected 1)\n",
            "[1.0, 85.0, 66.0, 29.0, 0.0, 26.6, 0.351, 31.0] => 0 (expected 0)\n",
            "[8.0, 183.0, 64.0, 0.0, 0.0, 23.3, 0.672, 32.0] => 1 (expected 1)\n",
            "[1.0, 89.0, 66.0, 23.0, 94.0, 28.1, 0.167, 21.0] => 0 (expected 0)\n",
            "[0.0, 137.0, 40.0, 35.0, 168.0, 43.1, 2.288, 33.0] => 1 (expected 1)\n",
            "[5.0, 116.0, 74.0, 0.0, 0.0, 25.6, 0.201, 30.0] => 0 (expected 0)\n",
            "[3.0, 78.0, 50.0, 32.0, 88.0, 31.0, 0.248, 26.0] => 0 (expected 1)\n",
            "[10.0, 115.0, 0.0, 0.0, 0.0, 35.3, 0.134, 29.0] => 1 (expected 0)\n",
            "[2.0, 197.0, 70.0, 45.0, 543.0, 30.5, 0.158, 53.0] => 1 (expected 1)\n",
            "[8.0, 125.0, 96.0, 0.0, 0.0, 0.0, 0.232, 54.0] => 0 (expected 1)\n",
            "[4.0, 110.0, 92.0, 0.0, 0.0, 37.6, 0.191, 30.0] => 0 (expected 0)\n",
            "[10.0, 168.0, 74.0, 0.0, 0.0, 38.0, 0.537, 34.0] => 1 (expected 1)\n",
            "[10.0, 139.0, 80.0, 0.0, 0.0, 27.1, 1.441, 57.0] => 1 (expected 0)\n",
            "[1.0, 189.0, 60.0, 23.0, 846.0, 30.1, 0.398, 59.0] => 1 (expected 1)\n",
            "[5.0, 166.0, 72.0, 19.0, 175.0, 25.8, 0.587, 51.0] => 1 (expected 1)\n",
            "[7.0, 100.0, 0.0, 0.0, 0.0, 30.0, 0.484, 32.0] => 1 (expected 1)\n",
            "[0.0, 118.0, 84.0, 47.0, 230.0, 45.8, 0.551, 31.0] => 0 (expected 1)\n",
            "[7.0, 107.0, 74.0, 0.0, 0.0, 29.6, 0.254, 31.0] => 0 (expected 1)\n",
            "[1.0, 103.0, 30.0, 38.0, 83.0, 43.3, 0.183, 33.0] => 0 (expected 0)\n",
            "[1.0, 115.0, 70.0, 30.0, 96.0, 34.6, 0.529, 32.0] => 0 (expected 1)\n",
            "[3.0, 126.0, 88.0, 41.0, 235.0, 39.3, 0.704, 27.0] => 1 (expected 0)\n",
            "[8.0, 99.0, 84.0, 0.0, 0.0, 35.4, 0.388, 50.0] => 0 (expected 0)\n",
            "[7.0, 196.0, 90.0, 0.0, 0.0, 39.8, 0.451, 41.0] => 1 (expected 1)\n",
            "[9.0, 119.0, 80.0, 35.0, 0.0, 29.0, 0.263, 29.0] => 0 (expected 1)\n",
            "[11.0, 143.0, 94.0, 33.0, 146.0, 36.6, 0.254, 51.0] => 1 (expected 1)\n",
            "[10.0, 125.0, 70.0, 26.0, 115.0, 31.1, 0.205, 41.0] => 1 (expected 1)\n",
            "[7.0, 147.0, 76.0, 0.0, 0.0, 39.4, 0.257, 43.0] => 1 (expected 1)\n",
            "[1.0, 97.0, 66.0, 15.0, 140.0, 23.2, 0.487, 22.0] => 0 (expected 0)\n",
            "[13.0, 145.0, 82.0, 19.0, 110.0, 22.2, 0.245, 57.0] => 1 (expected 0)\n",
            "[5.0, 117.0, 92.0, 0.0, 0.0, 34.1, 0.337, 38.0] => 0 (expected 0)\n",
            "[5.0, 109.0, 75.0, 26.0, 0.0, 36.0, 0.546, 60.0] => 0 (expected 0)\n",
            "[3.0, 158.0, 76.0, 36.0, 245.0, 31.6, 0.851, 28.0] => 1 (expected 1)\n",
            "[3.0, 88.0, 58.0, 11.0, 54.0, 24.8, 0.267, 22.0] => 0 (expected 0)\n",
            "[6.0, 92.0, 92.0, 0.0, 0.0, 19.9, 0.188, 28.0] => 0 (expected 0)\n",
            "[10.0, 122.0, 78.0, 31.0, 0.0, 27.6, 0.512, 45.0] => 1 (expected 0)\n",
            "[4.0, 103.0, 60.0, 33.0, 192.0, 24.0, 0.966, 33.0] => 1 (expected 0)\n",
            "[11.0, 138.0, 76.0, 0.0, 0.0, 33.2, 0.42, 35.0] => 1 (expected 0)\n",
            "[9.0, 102.0, 76.0, 37.0, 0.0, 32.9, 0.665, 46.0] => 1 (expected 1)\n",
            "[2.0, 90.0, 68.0, 42.0, 0.0, 38.2, 0.503, 27.0] => 0 (expected 1)\n",
            "[4.0, 111.0, 72.0, 47.0, 207.0, 37.1, 1.39, 56.0] => 1 (expected 1)\n"
          ],
          "name": "stdout"
        }
      ]
    },
    {
      "cell_type": "code",
      "metadata": {
        "colab": {
          "base_uri": "https://localhost:8080/"
        },
        "id": "39Srd-ejgtYC",
        "outputId": "4b3a4640-5ee6-42a6-98c9-5df0e25aab2f"
      },
      "source": [
        "# print tingkat akurasi\n",
        "from sklearn.metrics import classification_report\n",
        "from sklearn.metrics import accuracy_score\n",
        "print(classification_report(y,predictions))\n",
        "print(accuracy_score(y,predictions))"
      ],
      "execution_count": 65,
      "outputs": [
        {
          "output_type": "stream",
          "text": [
            "              precision    recall  f1-score   support\n",
            "\n",
            "         0.0       0.84      0.78      0.81       500\n",
            "         1.0       0.64      0.71      0.67       268\n",
            "\n",
            "    accuracy                           0.76       768\n",
            "   macro avg       0.74      0.75      0.74       768\n",
            "weighted avg       0.77      0.76      0.76       768\n",
            "\n",
            "0.7591145833333334\n"
          ],
          "name": "stdout"
        }
      ]
    }
  ]
}