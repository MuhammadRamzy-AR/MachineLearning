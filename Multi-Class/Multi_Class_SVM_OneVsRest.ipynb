{
  "nbformat": 4,
  "nbformat_minor": 0,
  "metadata": {
    "colab": {
      "name": "Multi-Class_SVM_OneVsRest.ipynb",
      "provenance": [],
      "collapsed_sections": []
    },
    "kernelspec": {
      "display_name": "Python 3",
      "name": "python3"
    }
  },
  "cells": [
    {
      "cell_type": "code",
      "metadata": {
        "id": "3jaOqtbyKS-V",
        "colab": {
          "base_uri": "https://localhost:8080/"
        },
        "outputId": "467ec028-7f45-4a18-e7e4-650943569509"
      },
      "source": [
        "!pip install ipython-autotime\n",
        "\n",
        "%load_ext autotime"
      ],
      "execution_count": null,
      "outputs": [
        {
          "output_type": "stream",
          "text": [
            "Requirement already satisfied: ipython-autotime in /usr/local/lib/python3.6/dist-packages (0.2.0)\n",
            "Requirement already satisfied: ipython in /usr/local/lib/python3.6/dist-packages (from ipython-autotime) (5.5.0)\n",
            "Requirement already satisfied: prompt-toolkit<2.0.0,>=1.0.4 in /usr/local/lib/python3.6/dist-packages (from ipython->ipython-autotime) (1.0.18)\n",
            "Requirement already satisfied: setuptools>=18.5 in /usr/local/lib/python3.6/dist-packages (from ipython->ipython-autotime) (50.3.2)\n",
            "Requirement already satisfied: simplegeneric>0.8 in /usr/local/lib/python3.6/dist-packages (from ipython->ipython-autotime) (0.8.1)\n",
            "Requirement already satisfied: traitlets>=4.2 in /usr/local/lib/python3.6/dist-packages (from ipython->ipython-autotime) (4.3.3)\n",
            "Requirement already satisfied: decorator in /usr/local/lib/python3.6/dist-packages (from ipython->ipython-autotime) (4.4.2)\n",
            "Requirement already satisfied: pickleshare in /usr/local/lib/python3.6/dist-packages (from ipython->ipython-autotime) (0.7.5)\n",
            "Requirement already satisfied: pygments in /usr/local/lib/python3.6/dist-packages (from ipython->ipython-autotime) (2.6.1)\n",
            "Requirement already satisfied: pexpect; sys_platform != \"win32\" in /usr/local/lib/python3.6/dist-packages (from ipython->ipython-autotime) (4.8.0)\n",
            "Requirement already satisfied: six>=1.9.0 in /usr/local/lib/python3.6/dist-packages (from prompt-toolkit<2.0.0,>=1.0.4->ipython->ipython-autotime) (1.15.0)\n",
            "Requirement already satisfied: wcwidth in /usr/local/lib/python3.6/dist-packages (from prompt-toolkit<2.0.0,>=1.0.4->ipython->ipython-autotime) (0.2.5)\n",
            "Requirement already satisfied: ipython-genutils in /usr/local/lib/python3.6/dist-packages (from traitlets>=4.2->ipython->ipython-autotime) (0.2.0)\n",
            "Requirement already satisfied: ptyprocess>=0.5 in /usr/local/lib/python3.6/dist-packages (from pexpect; sys_platform != \"win32\"->ipython->ipython-autotime) (0.6.0)\n",
            "The autotime extension is already loaded. To reload it, use:\n",
            "  %reload_ext autotime\n",
            "time: 2.74 s\n"
          ],
          "name": "stdout"
        }
      ]
    },
    {
      "cell_type": "code",
      "metadata": {
        "id": "J-3GT3iMcA1q",
        "colab": {
          "base_uri": "https://localhost:8080/"
        },
        "outputId": "3d943377-114a-4905-e4be-521d499802bc"
      },
      "source": [
        "# SVM for multi-class classification using one-vs-one\n",
        "# Melakukan import library yang diperlukan\n",
        "from sklearn.svm import SVC\n",
        "from sklearn.utils import shuffle\n",
        "# from sklearn.linear_model import LogisticRegression\n",
        "from sklearn.multiclass import OneVsRestClassifier\n",
        "import numpy as np\n",
        "import pylab as pl\n",
        "import pandas as pd\n",
        "import matplotlib.pyplot as plt \n",
        "import seaborn as sns\n",
        "# melakukan import dataset 'Iris' dari library scikit-learn dataset\n",
        "from sklearn import datasets\n",
        "# Memanggil dataset\n",
        "iris = datasets.load_iris()"
      ],
      "execution_count": null,
      "outputs": [
        {
          "output_type": "stream",
          "text": [
            "time: 7.45 ms\n"
          ],
          "name": "stdout"
        }
      ]
    },
    {
      "cell_type": "code",
      "metadata": {
        "id": "7C2QCPgwcXrg",
        "colab": {
          "base_uri": "https://localhost:8080/"
        },
        "outputId": "764ffab5-fc71-4e22-e293-c41d9068fd2e"
      },
      "source": [
        "#Cetak 13 nama fitur\n",
        "print(\"Features: \", iris.feature_names)\n",
        "\n",
        "#Cetak label jenis \n",
        "print(\"Labels: \", iris.target_names)"
      ],
      "execution_count": null,
      "outputs": [
        {
          "output_type": "stream",
          "text": [
            "Features:  ['sepal length (cm)', 'sepal width (cm)', 'petal length (cm)', 'petal width (cm)']\n",
            "Labels:  ['setosa' 'versicolor' 'virginica']\n",
            "time: 4.15 ms\n"
          ],
          "name": "stdout"
        }
      ]
    },
    {
      "cell_type": "code",
      "metadata": {
        "id": "hjO3vncqcaS4",
        "colab": {
          "base_uri": "https://localhost:8080/"
        },
        "outputId": "68dd5e05-8eba-4032-ec04-569e916af53e"
      },
      "source": [
        "# Menampilkan dimensi data (baris, kolom)\n",
        "iris.data.shape"
      ],
      "execution_count": null,
      "outputs": [
        {
          "output_type": "execute_result",
          "data": {
            "text/plain": [
              "(150, 4)"
            ]
          },
          "metadata": {
            "tags": []
          },
          "execution_count": 195
        },
        {
          "output_type": "stream",
          "text": [
            "time: 3.76 ms\n"
          ],
          "name": "stdout"
        }
      ]
    },
    {
      "cell_type": "code",
      "metadata": {
        "id": "EGtzHf7Oca0A",
        "colab": {
          "base_uri": "https://localhost:8080/"
        },
        "outputId": "b315ccc4-4c03-47dc-adc2-45db9dced7a0"
      },
      "source": [
        "# menampilkan 10 data pertama dari variabel 'features'\n",
        "print(iris.data[0:10])"
      ],
      "execution_count": null,
      "outputs": [
        {
          "output_type": "stream",
          "text": [
            "[[5.1 3.5 1.4 0.2]\n",
            " [4.9 3.  1.4 0.2]\n",
            " [4.7 3.2 1.3 0.2]\n",
            " [4.6 3.1 1.5 0.2]\n",
            " [5.  3.6 1.4 0.2]\n",
            " [5.4 3.9 1.7 0.4]\n",
            " [4.6 3.4 1.4 0.3]\n",
            " [5.  3.4 1.5 0.2]\n",
            " [4.4 2.9 1.4 0.2]\n",
            " [4.9 3.1 1.5 0.1]]\n",
            "time: 2.86 ms\n"
          ],
          "name": "stdout"
        }
      ]
    },
    {
      "cell_type": "code",
      "metadata": {
        "id": "-zP7iHoFcdsy",
        "colab": {
          "base_uri": "https://localhost:8080/"
        },
        "outputId": "df4e5cbe-4b85-45ab-a5b0-fccce7a08583"
      },
      "source": [
        "# Cetak label data\n",
        "print(iris.target)"
      ],
      "execution_count": null,
      "outputs": [
        {
          "output_type": "stream",
          "text": [
            "[0 0 0 0 0 0 0 0 0 0 0 0 0 0 0 0 0 0 0 0 0 0 0 0 0 0 0 0 0 0 0 0 0 0 0 0 0\n",
            " 0 0 0 0 0 0 0 0 0 0 0 0 0 1 1 1 1 1 1 1 1 1 1 1 1 1 1 1 1 1 1 1 1 1 1 1 1\n",
            " 1 1 1 1 1 1 1 1 1 1 1 1 1 1 1 1 1 1 1 1 1 1 1 1 1 1 2 2 2 2 2 2 2 2 2 2 2\n",
            " 2 2 2 2 2 2 2 2 2 2 2 2 2 2 2 2 2 2 2 2 2 2 2 2 2 2 2 2 2 2 2 2 2 2 2 2 2\n",
            " 2 2]\n",
            "time: 2.15 ms\n"
          ],
          "name": "stdout"
        }
      ]
    },
    {
      "cell_type": "code",
      "metadata": {
        "id": "E4eO2IhUcfsT",
        "colab": {
          "base_uri": "https://localhost:8080/"
        },
        "outputId": "5430c5ef-c2d0-4f57-e316-3a9f3de7d4d6"
      },
      "source": [
        "# Import fungsi train_test_split\n",
        "from sklearn.model_selection import train_test_split\n",
        "\n",
        "# Membagi dataset menjadi training set dan test set\n",
        "X_train, X_test, y_train, y_test = train_test_split(iris.data, iris.target, test_size=0.25,random_state=123) # 75% training and 25% test"
      ],
      "execution_count": null,
      "outputs": [
        {
          "output_type": "stream",
          "text": [
            "time: 3.62 ms\n"
          ],
          "name": "stdout"
        }
      ]
    },
    {
      "cell_type": "code",
      "metadata": {
        "id": "4vKiwJ_Ici9j",
        "colab": {
          "base_uri": "https://localhost:8080/"
        },
        "outputId": "54def547-73b9-4e50-c7a4-a1a0c15fe46c"
      },
      "source": [
        "# Membuat svm Classifier (tidak jadi dipakai)\n",
        "# clf = svm.SVC(kernel='linear') # Linear Kernel"
      ],
      "execution_count": null,
      "outputs": [
        {
          "output_type": "stream",
          "text": [
            "time: 961 µs\n"
          ],
          "name": "stdout"
        }
      ]
    },
    {
      "cell_type": "code",
      "metadata": {
        "id": "dohCHEOpcDCl",
        "colab": {
          "base_uri": "https://localhost:8080/"
        },
        "outputId": "f412ebf5-f78b-4d4e-c214-b5b6bc0b81b8"
      },
      "source": [
        "# mendefinisikan model OvR menggunakan SVM\n",
        "model = SVC(decision_function_shape='ovr')\n",
        "# mendeklarasikan model OneVsRest\n",
        "ovr = OneVsRestClassifier(model)\n",
        "# fit model\n",
        "ovr.fit(X_train, y_train)\n",
        "# Memprediksikan respons untuk test dataset\n",
        "y_pred = ovr.predict(X_test)"
      ],
      "execution_count": null,
      "outputs": [
        {
          "output_type": "stream",
          "text": [
            "time: 15.5 ms\n"
          ],
          "name": "stdout"
        }
      ]
    },
    {
      "cell_type": "code",
      "metadata": {
        "id": "Y03_JMyvdAlU",
        "colab": {
          "base_uri": "https://localhost:8080/"
        },
        "outputId": "6aa37730-03a9-4bed-db53-625c8350aa78"
      },
      "source": [
        "y_pred"
      ],
      "execution_count": null,
      "outputs": [
        {
          "output_type": "execute_result",
          "data": {
            "text/plain": [
              "array([1, 2, 2, 1, 0, 1, 1, 0, 0, 1, 2, 0, 1, 2, 2, 2, 0, 0, 1, 0, 0, 1,\n",
              "       0, 1, 0, 0, 0, 2, 2, 0, 2, 1, 0, 0, 1, 1, 2, 0])"
            ]
          },
          "metadata": {
            "tags": []
          },
          "execution_count": 201
        },
        {
          "output_type": "stream",
          "text": [
            "time: 4.2 ms\n"
          ],
          "name": "stdout"
        }
      ]
    },
    {
      "cell_type": "code",
      "metadata": {
        "id": "kDRVKBjW-ovt",
        "colab": {
          "base_uri": "https://localhost:8080/"
        },
        "outputId": "95dc37a7-1baa-460b-cd7c-e6ca91b05842"
      },
      "source": [
        "y_test"
      ],
      "execution_count": null,
      "outputs": [
        {
          "output_type": "execute_result",
          "data": {
            "text/plain": [
              "array([1, 2, 2, 1, 0, 2, 1, 0, 0, 1, 2, 0, 1, 2, 2, 2, 0, 0, 1, 0, 0, 2,\n",
              "       0, 2, 0, 0, 0, 2, 2, 0, 2, 2, 0, 0, 1, 1, 2, 0])"
            ]
          },
          "metadata": {
            "tags": []
          },
          "execution_count": 202
        },
        {
          "output_type": "stream",
          "text": [
            "time: 4.56 ms\n"
          ],
          "name": "stdout"
        }
      ]
    },
    {
      "cell_type": "code",
      "metadata": {
        "id": "Dfh3GKSDdBMa",
        "colab": {
          "base_uri": "https://localhost:8080/"
        },
        "outputId": "9722292d-9123-44ce-b654-c1c9fb2dee0b"
      },
      "source": [
        "# Menampilkan confusion matriks untuk mengetahui kesalahan dalam pengklasifikasian data\n",
        "from sklearn.metrics import confusion_matrix\n",
        "confusion_matrix(y_test, y_pred)"
      ],
      "execution_count": null,
      "outputs": [
        {
          "output_type": "execute_result",
          "data": {
            "text/plain": [
              "array([[16,  0,  0],\n",
              "       [ 0,  8,  0],\n",
              "       [ 0,  4, 10]])"
            ]
          },
          "metadata": {
            "tags": []
          },
          "execution_count": 203
        },
        {
          "output_type": "stream",
          "text": [
            "time: 5.99 ms\n"
          ],
          "name": "stdout"
        }
      ]
    },
    {
      "cell_type": "code",
      "metadata": {
        "id": "_f94fXRXdDH_",
        "colab": {
          "base_uri": "https://localhost:8080/"
        },
        "outputId": "5774fab9-fb1c-44b6-8042-4f5c522b17dd"
      },
      "source": [
        "# Menampilkan tingkat akurasi dari pengklasifikasian     menggunakan algoritma SVM untuk metode OneVsRest\n",
        "from sklearn.metrics import classification_report\n",
        "print(classification_report(y_test, y_pred))"
      ],
      "execution_count": null,
      "outputs": [
        {
          "output_type": "stream",
          "text": [
            "              precision    recall  f1-score   support\n",
            "\n",
            "           0       1.00      1.00      1.00        16\n",
            "           1       0.67      1.00      0.80         8\n",
            "           2       1.00      0.71      0.83        14\n",
            "\n",
            "    accuracy                           0.89        38\n",
            "   macro avg       0.89      0.90      0.88        38\n",
            "weighted avg       0.93      0.89      0.90        38\n",
            "\n",
            "time: 9.78 ms\n"
          ],
          "name": "stdout"
        }
      ]
    },
    {
      "cell_type": "code",
      "metadata": {
        "id": "8ihl1odcdF7Y"
      },
      "source": [
        ""
      ],
      "execution_count": null,
      "outputs": []
    }
  ]
}